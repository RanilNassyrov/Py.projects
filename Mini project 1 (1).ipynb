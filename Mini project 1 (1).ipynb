{
 "cells": [
  {
   "cell_type": "markdown",
   "id": "74b5d472",
   "metadata": {},
   "source": [
    "# Мини проект 1"
   ]
  },
  {
   "cell_type": "markdown",
   "id": "cc4f6ca8",
   "metadata": {},
   "source": [
    "Вам дан файл users.txt. Вы должны сделать следующие действия:\n",
    "\n",
    "1) Прочитать этот файл построчно. Пожалуйста, используйте для этого try catch. Если файл не найден, напечатайте следующий текст: «the file that you would like to read is not found». Для любых других ошибок, пожалуйста, напечатайте следующее сообщение: \"some error occured\"\n",
    "     \n",
    "     \n",
    "2) Создайте класс Users со следующими атрибутами и функциями:\n",
    "\n",
    "     a) имя\n",
    "     \n",
    "     b) фамилия\n",
    "     \n",
    "     c) год рождения\n",
    "     \n",
    "     d) адрес электронной почты\n",
    "     \n",
    "     e) getAge(): возвращает возраст пользователя, принимая во внимание, что текущий год 2023\n",
    "     \n",
    "     \n",
    "3) преобразовать каждую строку файла в объект класса Users и сохранить их все в списке. Чтобы разделить слова, разделенные запятой, используйте функцию split(). Например, если: s = \"a,b,c\", тогда t = s.split(',') вернет ['a', 'b', 'c']. Таким образом разделите данные в каждой строке на отдельные части и присвойте эти значения атрибутам класса «Users».\n",
    "\n",
    "\n",
    "4) написать функцию filter(low, high, users), которая будет принимать параметры по умолчанию \"low\"=30, \"high\"=50 и простой параметр - список объектов класса Users. Функция должна пройтись по всем пользователям и проверить возраст с параметрами low и high. Мы должны вернуть только тех пользователей, чей возраст выше нижнего параметра low и ниже верхнего параметра high. Распечатайте их адрес электронной почты и возраст. Пожалуйста, разделите данные (адрес электронной почты и возраст) запятой. Затем вызовите эту функцию."
   ]
  },
  {
   "cell_type": "code",
   "execution_count": null,
   "id": "dfd70537-8a35-4daa-8d92-911ee27f2a3a",
   "metadata": {},
   "outputs": [],
   "source": []
  },
  {
   "cell_type": "code",
   "execution_count": null,
   "id": "b231d170-9fb2-4d99-8b08-8d3e1fe432c1",
   "metadata": {},
   "outputs": [],
   "source": []
  },
  {
   "cell_type": "code",
   "execution_count": 1,
   "id": "e871d8a2-42f1-4413-ab23-dc2be5f2d7ef",
   "metadata": {},
   "outputs": [
    {
     "name": "stdout",
     "output_type": "stream",
     "text": [
      "1,Magzhan,Kairanbay,magzhan.kairanbay@gmail.com,1991\n",
      "\n",
      "2,John,See,john.see@gmail.com,1981\n",
      "\n",
      "3,Lim,Kim,lim.kim@gmail.com,1997\n",
      "\n",
      "4,Andrew,Ng,andrew.ng@gmail.com,1971\n",
      "\n",
      "5,Andrey,Karpathy,andrey.karpathy@gmail.com,1981\n",
      "\n",
      "6,Jackie,Chan,jeckie.chan@gmail.com,1951\n",
      "\n",
      "7,Clarence,Lim,clarence.lim@gmail.com,1985\n",
      "\n",
      "8,Ryan,Jack,ryan.jack@gmail.com,1994\n",
      "\n",
      "9,Jonattan,Clark,jonattan.clark@gmail.com,2000\n",
      "\n",
      "10,Chris,Brown,chris.brown@gmail.com,1989\n",
      "\n",
      "11,Justin,Bieber,justin.bieber@gmail.com,1992\n"
     ]
    }
   ],
   "source": [
    "try:\n",
    "    with open('users.txt', 'r') as file:\n",
    "        lines = file.readlines()\n",
    "        for line in lines:\n",
    "            print(line)\n",
    "    \n",
    "except FileNotFoundError:\n",
    "    print(\"the file that you would like to read is not found\")\n",
    "except Exception:\n",
    "    print(\"some error occured\")"
   ]
  },
  {
   "cell_type": "code",
   "execution_count": null,
   "id": "6442d132-e58c-4042-b9af-2aeb05f4ffe4",
   "metadata": {},
   "outputs": [],
   "source": []
  },
  {
   "cell_type": "code",
   "execution_count": null,
   "id": "80da7c61-639e-4456-904f-485e1459ae70",
   "metadata": {},
   "outputs": [],
   "source": []
  },
  {
   "cell_type": "code",
   "execution_count": null,
   "id": "7d757d4d-2c89-4bce-886e-9e3be4a60d08",
   "metadata": {},
   "outputs": [],
   "source": []
  },
  {
   "cell_type": "code",
   "execution_count": 2,
   "id": "f4c5d58e-bb0a-44cb-b754-66c7d6f44901",
   "metadata": {},
   "outputs": [],
   "source": [
    "class Users:\n",
    "    def __init__(self, first_name, last_name, birth_year,email):\n",
    "        self.first_name = first_name\n",
    "        self.last_name = last_name\n",
    "        self.birth_year = birth_year\n",
    "        self.email = email\n",
    "\n",
    "    def getAge(self):\n",
    "        currect_year = 2023\n",
    "        return currect_year - self.birth_year\n"
   ]
  },
  {
   "cell_type": "code",
   "execution_count": 3,
   "id": "6811017e-f31d-4631-9250-6578a665ca24",
   "metadata": {},
   "outputs": [
    {
     "name": "stdout",
     "output_type": "stream",
     "text": [
      "Имя: Питер, Фамилия: Паркер, Возраст: 33, Email: parker@marvel.com\n"
     ]
    }
   ],
   "source": [
    "user = Users(\"Питер\", \"Паркер\", 1990, \"parker@marvel.com\")\n",
    "print(f\"Имя: {user.first_name}, Фамилия: {user.last_name}, Возраст: {user.getAge()}, Email: {user.email}\")"
   ]
  },
  {
   "cell_type": "code",
   "execution_count": null,
   "id": "0eb6e225-9251-4e35-8ae2-85afdf44984a",
   "metadata": {},
   "outputs": [],
   "source": []
  },
  {
   "cell_type": "code",
   "execution_count": null,
   "id": "95a8c14b-5efe-4355-bad8-1ca1c9bc0032",
   "metadata": {},
   "outputs": [],
   "source": []
  },
  {
   "cell_type": "code",
   "execution_count": 6,
   "id": "44707933-50ac-49e0-bab4-6027b55d0596",
   "metadata": {},
   "outputs": [],
   "source": [
    "class Users:\n",
    "    def __init__(self, first_name, last_name, birth_year, email):\n",
    "        self.first_name = first_name\n",
    "        self.last_name = last_name\n",
    "        self.birth_year = int(birth_year)\n",
    "        self.email = email\n",
    "\n",
    "    def getAge(self):\n",
    "        current_year = 2023\n",
    "        return current_year - self.birth_year\n",
    "\n",
    "try:\n",
    "    users_list = []\n",
    "    with open('users.txt', 'r') as file:\n",
    "        for line in file:\n",
    "            parts = line.strip().split(',')\n",
    "            if len(parts) == 4:\n",
    "                user = Users(parts[0], parts[1], parts[2], parts[3])\n",
    "                users_list.append(user)\n",
    "\n",
    "except FileNotFoundError:\n",
    "    print(\"the file that you would like to read is not found\")\n",
    "except Exception as e:\n",
    "    print(\"some error occured\")\n",
    "\n",
    "for user in users_list:\n",
    "    print(f\"Имя: {user.first_name}, Фамилия: {user.last_name}, Год рождения: {user.birth_year}, Адрес электронной почты: {user.email}, Возраст: {user.getAge()}\")"
   ]
  },
  {
   "cell_type": "code",
   "execution_count": null,
   "id": "990bfd08-7172-441a-ae1a-81dbe3cccd27",
   "metadata": {},
   "outputs": [],
   "source": []
  },
  {
   "cell_type": "code",
   "execution_count": null,
   "id": "50d65582-6854-41bd-8fbd-41b9176f2be4",
   "metadata": {},
   "outputs": [],
   "source": []
  },
  {
   "cell_type": "code",
   "execution_count": null,
   "id": "ccd2abdc-5754-4fb6-82dc-4cc39294b615",
   "metadata": {},
   "outputs": [],
   "source": []
  },
  {
   "cell_type": "code",
   "execution_count": 5,
   "id": "abaf35de-0b5c-4f46-b1fc-97e25552285a",
   "metadata": {},
   "outputs": [],
   "source": [
    "class Users:\n",
    "    def __init__(self, first_name, last_name, birth_year, email):\n",
    "        self.first_name = first_name\n",
    "        self.last_name = last_name\n",
    "        self.birth_year = int(birth_year)\n",
    "        self.email = email\n",
    "\n",
    "    def getAge(self):\n",
    "        current_year = 2023\n",
    "        return current_year - self.birth_year\n",
    "\n",
    "def filter_users(users, low=30, high=50):\n",
    "    filtered_users = []\n",
    "    for user in users:\n",
    "        age = user.getAge()\n",
    "        if low < age < high:\n",
    "            filtered_users.append(user)\n",
    "    return filtered_users\n",
    "\n",
    "try:\n",
    "    users_list = []\n",
    "    with open('users.txt', 'r') as file:\n",
    "        for line in file:\n",
    "            parts = line.strip().split(',')\n",
    "            if len(parts) == 4:\n",
    "                user = Users(parts[0], parts[1], parts[2], parts[3])\n",
    "                users_list.append(user)\n",
    "\n",
    "except FileNotFoundError:\n",
    "    print(\"the file that you would like to read is not found\")\n",
    "except Exception as e:\n",
    "    print(\"some error occured\")\n",
    "    print(str(e))\n",
    "\n",
    "filtered_users = filter_users(users_list)\n",
    "\n",
    "for user in filtered_users:\n",
    "    print(f\"{user.email},{user.getAge()}\")"
   ]
  },
  {
   "cell_type": "code",
   "execution_count": null,
   "id": "6d380985-c145-43bb-9f2b-58e339cfdf7c",
   "metadata": {},
   "outputs": [],
   "source": []
  }
 ],
 "metadata": {
  "kernelspec": {
   "display_name": "Python 3 (ipykernel)",
   "language": "python",
   "name": "python3"
  },
  "language_info": {
   "codemirror_mode": {
    "name": "ipython",
    "version": 3
   },
   "file_extension": ".py",
   "mimetype": "text/x-python",
   "name": "python",
   "nbconvert_exporter": "python",
   "pygments_lexer": "ipython3",
   "version": "3.12.4"
  }
 },
 "nbformat": 4,
 "nbformat_minor": 5
}
